{
 "cells": [
  {
   "cell_type": "markdown",
   "id": "1710ec04",
   "metadata": {},
   "source": [
    "#### In the below elements which of them are values or an expression?\n",
    "eg:- values can be integer or string and expressions will be mathematical operators."
   ]
  },
  {
   "cell_type": "code",
   "execution_count": null,
   "id": "d84b1cad",
   "metadata": {},
   "outputs": [],
   "source": [
    " *  - mathematical operator\n",
    "'hello' -- values\n",
    "-87.8  -- values\n",
    "-    -- mathematical operator\n",
    "/    -- mathematical operator\n",
    "+\t-- mathematical operstor\n",
    "6   -- value\n"
   ]
  },
  {
   "cell_type": "markdown",
   "id": "eaf4daef",
   "metadata": {},
   "source": [
    "#### What is the difference between string and variable?"
   ]
  },
  {
   "cell_type": "code",
   "execution_count": null,
   "id": "af1235cb",
   "metadata": {},
   "outputs": [],
   "source": [
    "A variable is a a type of empty box which we can use to store a data\n",
    "where as string is the data is to be stored in the variable."
   ]
  },
  {
   "cell_type": "markdown",
   "id": "2d5dc0db",
   "metadata": {},
   "source": [
    "#### Describe three different data types."
   ]
  },
  {
   "cell_type": "code",
   "execution_count": null,
   "id": "0bbd4c7f",
   "metadata": {},
   "outputs": [],
   "source": [
    "the three different types of data types are:-\n",
    "    1. String\n",
    "    2. Int\n",
    "    3. float\n",
    "    4. boolean"
   ]
  },
  {
   "cell_type": "markdown",
   "id": "162e2d02",
   "metadata": {},
   "source": [
    "#### What is an expression made up of? What do all expressions do?"
   ]
  },
  {
   "cell_type": "code",
   "execution_count": null,
   "id": "1cbedd0c",
   "metadata": {},
   "outputs": [],
   "source": [
    "the expressions in python are a combination of operators and operands\n",
    "and all these expressions give a value after being interpreted by python interpretor"
   ]
  },
  {
   "cell_type": "markdown",
   "id": "f8130f7a",
   "metadata": {},
   "source": [
    "#### This assignment statements, like spam = 10. What is the difference between an expression and a statement?\n"
   ]
  },
  {
   "cell_type": "code",
   "execution_count": null,
   "id": "1dc66461",
   "metadata": {},
   "outputs": [],
   "source": [
    "An expression is a piece of code that evaluates to a values after being interpreted by python whereas\n",
    "a statement is an action\n",
    "for eg assignment of spam = 10 that means span is asssigned to value 10 without any calculation\n"
   ]
  },
  {
   "cell_type": "markdown",
   "id": "bcc80319",
   "metadata": {},
   "source": [
    "#### After running the following code, what does the variable bacon contain?\n",
    "bacon = 22\n",
    "bacon + 1\n"
   ]
  },
  {
   "cell_type": "code",
   "execution_count": null,
   "id": "59af8b89",
   "metadata": {},
   "outputs": [],
   "source": [
    "it will contain 22 only\n"
   ]
  },
  {
   "cell_type": "code",
   "execution_count": 17,
   "id": "4a2b89d3",
   "metadata": {},
   "outputs": [
    {
     "data": {
      "text/plain": [
       "22"
      ]
     },
     "execution_count": 17,
     "metadata": {},
     "output_type": "execute_result"
    }
   ],
   "source": [
    "b = 22\n",
    "b+1 \n",
    "b"
   ]
  },
  {
   "cell_type": "markdown",
   "id": "86964b87",
   "metadata": {},
   "source": [
    "#### What should the values of the following two terms be?\n",
    "'spam' + 'spamspam'\n",
    "\\\n",
    "'spam' * 3\n"
   ]
  },
  {
   "cell_type": "code",
   "execution_count": 19,
   "id": "b4077650",
   "metadata": {},
   "outputs": [
    {
     "data": {
      "text/plain": [
       "'spamspamspam'"
      ]
     },
     "execution_count": 19,
     "metadata": {},
     "output_type": "execute_result"
    }
   ],
   "source": [
    "\"spam\" + \"spamspam\""
   ]
  },
  {
   "cell_type": "code",
   "execution_count": 21,
   "id": "77db8cd5",
   "metadata": {},
   "outputs": [
    {
     "data": {
      "text/plain": [
       "'spamspamspam'"
      ]
     },
     "execution_count": 21,
     "metadata": {},
     "output_type": "execute_result"
    }
   ],
   "source": [
    "\"spam\" * 3"
   ]
  },
  {
   "cell_type": "markdown",
   "id": "faa398cd",
   "metadata": {},
   "source": [
    "#### What three functions can be used to get the integer, floating-point number, or string version of a value?"
   ]
  },
  {
   "cell_type": "code",
   "execution_count": null,
   "id": "80bd6de4",
   "metadata": {},
   "outputs": [],
   "source": [
    "int(), float(), str(), these are the functions used to get the integer\n",
    "floating point number and string of any value passed"
   ]
  },
  {
   "cell_type": "markdown",
   "id": "6641e300",
   "metadata": {},
   "source": [
    "#### hy does this expression cause an error? How can you fix it?\n",
    "'I have eaten ' + 99 + ' burritos.'\n"
   ]
  },
  {
   "cell_type": "code",
   "execution_count": null,
   "id": "27aa6fd4",
   "metadata": {},
   "outputs": [],
   "source": [
    "99 is a integer and the rest are string so we cannot concanate a string and \n",
    "integer together to do so first we need to convert 99 into str and then do the same process"
   ]
  },
  {
   "cell_type": "code",
   "execution_count": null,
   "id": "093cdcfa",
   "metadata": {},
   "outputs": [],
   "source": []
  },
  {
   "cell_type": "markdown",
   "id": "1704f90d",
   "metadata": {},
   "source": [
    "# Assignment 2"
   ]
  },
  {
   "cell_type": "code",
   "execution_count": null,
   "id": "75b97579",
   "metadata": {},
   "outputs": [],
   "source": []
  },
  {
   "cell_type": "markdown",
   "id": "cf2fb067",
   "metadata": {},
   "source": [
    "#### What are the two values of the Boolean data type? How do you write them?"
   ]
  },
  {
   "cell_type": "code",
   "execution_count": null,
   "id": "f00305ba",
   "metadata": {},
   "outputs": [],
   "source": [
    "The two values of a boolean datatype are true and false"
   ]
  },
  {
   "cell_type": "code",
   "execution_count": null,
   "id": "b671797b",
   "metadata": {},
   "outputs": [],
   "source": []
  },
  {
   "cell_type": "markdown",
   "id": "2477196a",
   "metadata": {},
   "source": [
    "#### What are the three different types of Boolean operators?"
   ]
  },
  {
   "cell_type": "code",
   "execution_count": null,
   "id": "3334a957",
   "metadata": {},
   "outputs": [],
   "source": [
    "boolean operastors are the word \"AND\" \"OR\" \"NOT\"."
   ]
  },
  {
   "cell_type": "markdown",
   "id": "5ff71058",
   "metadata": {},
   "source": [
    "#### Make a list of each Boolean operator's truth tables (i.e. every possible combination of Boolean values for the operator and what it evaluate )."
   ]
  },
  {
   "cell_type": "code",
   "execution_count": null,
   "id": "7311f926",
   "metadata": {},
   "outputs": [],
   "source": [
    "AND                               OR                               NOT\n",
    "TRUE TRUE   TRUE                  TRUE TRUE    TRUE                TRUE FALSE\n",
    "TRUE FALSE  FALSE                 TURE FALSE   TRUE                FALSE TRUE\n",
    "FALSE TRUE  FALSE                 FALSE TRUE.  TRUE\n",
    "FALSE FALSE FALSE                 FALSE FALSE.  FALSE\n",
    "\n"
   ]
  },
  {
   "cell_type": "markdown",
   "id": "03f34389",
   "metadata": {},
   "source": [
    "#### What are the values of the following expressions?"
   ]
  },
  {
   "cell_type": "code",
   "execution_count": 22,
   "id": "122529d4",
   "metadata": {},
   "outputs": [
    {
     "data": {
      "text/plain": [
       "False"
      ]
     },
     "execution_count": 22,
     "metadata": {},
     "output_type": "execute_result"
    }
   ],
   "source": [
    "(5 > 4) and (3 == 5) \n",
    "\n"
   ]
  },
  {
   "cell_type": "code",
   "execution_count": 23,
   "id": "e69fc1a6",
   "metadata": {},
   "outputs": [
    {
     "data": {
      "text/plain": [
       "False"
      ]
     },
     "execution_count": 23,
     "metadata": {},
     "output_type": "execute_result"
    }
   ],
   "source": [
    "not (5 > 4)"
   ]
  },
  {
   "cell_type": "code",
   "execution_count": 24,
   "id": "9002dd63",
   "metadata": {},
   "outputs": [
    {
     "data": {
      "text/plain": [
       "True"
      ]
     },
     "execution_count": 24,
     "metadata": {},
     "output_type": "execute_result"
    }
   ],
   "source": [
    "(5 > 4) or (3 == 5)"
   ]
  },
  {
   "cell_type": "code",
   "execution_count": 25,
   "id": "3a9ab89b",
   "metadata": {},
   "outputs": [
    {
     "data": {
      "text/plain": [
       "False"
      ]
     },
     "execution_count": 25,
     "metadata": {},
     "output_type": "execute_result"
    }
   ],
   "source": [
    "not ((5 > 4) or (3 == 5))"
   ]
  },
  {
   "cell_type": "code",
   "execution_count": 26,
   "id": "8a765935",
   "metadata": {},
   "outputs": [
    {
     "data": {
      "text/plain": [
       "True"
      ]
     },
     "execution_count": 26,
     "metadata": {},
     "output_type": "execute_result"
    }
   ],
   "source": [
    "(not False) or (not True)\n"
   ]
  },
  {
   "cell_type": "code",
   "execution_count": 27,
   "id": "a9d53c00",
   "metadata": {},
   "outputs": [
    {
     "data": {
      "text/plain": [
       "False"
      ]
     },
     "execution_count": 27,
     "metadata": {},
     "output_type": "execute_result"
    }
   ],
   "source": [
    "(True and True) and (True == False)"
   ]
  },
  {
   "cell_type": "markdown",
   "id": "20c22608",
   "metadata": {},
   "source": [
    "#### What are the six comparison operators?"
   ]
  },
  {
   "cell_type": "code",
   "execution_count": null,
   "id": "a7eced72",
   "metadata": {},
   "outputs": [],
   "source": [
    "==, !=, < , > , <=, >="
   ]
  },
  {
   "cell_type": "markdown",
   "id": "73124b33",
   "metadata": {},
   "source": [
    "#### How do you tell the difference between the equal to and \n",
    "#### assignment operators?Describe a condition and when you would use one."
   ]
  },
  {
   "cell_type": "code",
   "execution_count": null,
   "id": "fd2f0d23",
   "metadata": {},
   "outputs": [],
   "source": [
    "WHEN WE USE DOULE EQUALS SIGN IT MEANS equal to operator \n",
    "whereas when we s=us esingle equal to sign it means assignment operator\n",
    "to assign a value of x we use x = 5 and to compaire whether x == 5 we use double equal to."
   ]
  },
  {
   "cell_type": "markdown",
   "id": "1d3e1f63",
   "metadata": {},
   "source": [
    "#### Write code that prints Hello if 1 is stored in spam, prints Howdy if 2 is stored in spam, and prints Greetings! if anything else is stored in spam"
   ]
  },
  {
   "cell_type": "code",
   "execution_count": 39,
   "id": "33c5f7ef",
   "metadata": {},
   "outputs": [
    {
     "name": "stdout",
     "output_type": "stream",
     "text": [
      "Greetings\n"
     ]
    }
   ],
   "source": [
    "spam = 3\n",
    "if spam == 1:\n",
    "    print (\"hello\")\n",
    "elif spam == 2:\n",
    "    print (\"howdy\")\n",
    "else:\n",
    "    print (\"Greetings\") "
   ]
  },
  {
   "cell_type": "markdown",
   "id": "c4f7b509",
   "metadata": {},
   "source": [
    "#### If your programme is stuck in an endless loop, what keys you’ll press?"
   ]
  },
  {
   "cell_type": "code",
   "execution_count": null,
   "id": "4c800d67",
   "metadata": {},
   "outputs": [],
   "source": [
    "ctrl + c"
   ]
  },
  {
   "cell_type": "markdown",
   "id": "c6ce627c",
   "metadata": {},
   "source": [
    "#### How can you tell the difference between break and continue?"
   ]
  },
  {
   "cell_type": "code",
   "execution_count": null,
   "id": "1a326b02",
   "metadata": {},
   "outputs": [],
   "source": [
    "Break\tContinue\n",
    "In the break statement, the control exits from the loop.\tIn the continue statement, the control remains within the loop.\n",
    "It is used to stop the execution of the loop at a specific condition.\tIt is used to skip a particular iteration of the loop."
   ]
  },
  {
   "cell_type": "markdown",
   "id": "2497594d",
   "metadata": {},
   "source": [
    "#### In a for loop, what is the difference between range(10), range(0, 10), and range(0, 10, 1)\n"
   ]
  },
  {
   "cell_type": "code",
   "execution_count": null,
   "id": "f5b23a97",
   "metadata": {},
   "outputs": [],
   "source": [
    "RANGE(10)= it gived a range of number from 0 to 10 without including 10 \n",
    "as lower limit is not specifies hence its 10"
   ]
  },
  {
   "cell_type": "code",
   "execution_count": null,
   "id": "1bf189c1",
   "metadata": {},
   "outputs": [],
   "source": [
    "range(0,10) = it gives a range of number fron 0 to 10  without including 10 \n",
    "but here the lower limit is specified as 10"
   ]
  },
  {
   "cell_type": "code",
   "execution_count": null,
   "id": "e10d55a0",
   "metadata": {},
   "outputs": [],
   "source": [
    "range(0,10,1) = it gives a range of number fron 0 to 10  without including 10 with 1 as step size\n",
    "but here the lower limit is specified as 10"
   ]
  },
  {
   "cell_type": "markdown",
   "id": "5d4e3624",
   "metadata": {},
   "source": [
    "#### Write a short program that prints the numbers 1 to 10 using a for loop. \n",
    "#### Then write an equivalent program that prints the numbers 1 to 10 using a while loop."
   ]
  },
  {
   "cell_type": "code",
   "execution_count": 50,
   "id": "fe2974d8",
   "metadata": {},
   "outputs": [
    {
     "name": "stdout",
     "output_type": "stream",
     "text": [
      "1\n",
      "2\n",
      "3\n",
      "4\n",
      "5\n",
      "6\n",
      "7\n",
      "8\n",
      "9\n",
      "10\n"
     ]
    }
   ],
   "source": [
    "i = 12\n",
    "for i in range(1,11):\n",
    "    print(i)"
   ]
  },
  {
   "cell_type": "code",
   "execution_count": 64,
   "id": "6d4d39d2",
   "metadata": {},
   "outputs": [
    {
     "name": "stdout",
     "output_type": "stream",
     "text": [
      "1\n",
      "2\n",
      "3\n",
      "4\n",
      "5\n",
      "6\n",
      "7\n",
      "8\n",
      "9\n",
      "10\n"
     ]
    }
   ],
   "source": [
    "i = 0\n",
    "while (i  < 10):\n",
    "    i = i + 1\n",
    "    print(i)\n",
    "    "
   ]
  },
  {
   "cell_type": "code",
   "execution_count": null,
   "id": "9e9a2f9a",
   "metadata": {},
   "outputs": [],
   "source": []
  }
 ],
 "metadata": {
  "kernelspec": {
   "display_name": "Python 3 (ipykernel)",
   "language": "python",
   "name": "python3"
  },
  "language_info": {
   "codemirror_mode": {
    "name": "ipython",
    "version": 3
   },
   "file_extension": ".py",
   "mimetype": "text/x-python",
   "name": "python",
   "nbconvert_exporter": "python",
   "pygments_lexer": "ipython3",
   "version": "3.9.13"
  }
 },
 "nbformat": 4,
 "nbformat_minor": 5
}
