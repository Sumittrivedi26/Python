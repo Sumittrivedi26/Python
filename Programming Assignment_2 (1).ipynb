{
 "cells": [
  {
   "cell_type": "markdown",
   "id": "08c66ea5",
   "metadata": {},
   "source": [
    "## Programming Assignment_2\n",
    "-------------"
   ]
  },
  {
   "cell_type": "markdown",
   "id": "4e50cf42",
   "metadata": {},
   "source": [
    "### 1. Write a Python program to convert kilometers to miles?\n"
   ]
  },
  {
   "cell_type": "code",
   "execution_count": 2,
   "id": "53b68fee",
   "metadata": {},
   "outputs": [
    {
     "name": "stdout",
     "output_type": "stream",
     "text": [
      "Enter the kilometer to convert to miles:20\n",
      "20.0 kilomters is 12.427399999999999 miles\n"
     ]
    }
   ],
   "source": [
    "##1 kilometer (km) = 0.62137 miles (mi)\n",
    "##So, to convert 'x' kilometers to miles, we multiply 'x' with the conversion factor. \n",
    "##This means 'x' kilometers = (0.62137x) miles\n",
    "\n",
    "a = float(input(\"Enter the kilometer to convert to miles:\"))\n",
    "miles = a * 0.62137\n",
    "\n",
    "print(a,\"kilomters is\", miles, \"miles\")\n"
   ]
  },
  {
   "cell_type": "markdown",
   "id": "0df4e6bf",
   "metadata": {},
   "source": [
    "### 2.Write a Python program to convert Celsius to Fahrenheit?"
   ]
  },
  {
   "cell_type": "code",
   "execution_count": 4,
   "id": "ce2dee3a",
   "metadata": {},
   "outputs": [
    {
     "name": "stdout",
     "output_type": "stream",
     "text": [
      "Enter the celsius to convert to fahrenheit:20\n",
      "20.0 celsius is 68.0 fahrenheit\n"
     ]
    }
   ],
   "source": [
    "a = float(input(\"Enter the celsius to convert to fahrenheit:\"))\n",
    "fahrenheit = (a * 1.8) + 32\n",
    "\n",
    "print(a, \"celsius is\",fahrenheit , \"fahrenheit\")"
   ]
  },
  {
   "cell_type": "markdown",
   "id": "46129b8e",
   "metadata": {},
   "source": [
    "### 3. Write a Python program to display calendar?\n"
   ]
  },
  {
   "cell_type": "code",
   "execution_count": 6,
   "id": "7157852b",
   "metadata": {},
   "outputs": [
    {
     "name": "stdout",
     "output_type": "stream",
     "text": [
      "Enter year: 2022\n",
      "Enter month: 11\n",
      "   November 2022\n",
      "Mo Tu We Th Fr Sa Su\n",
      "    1  2  3  4  5  6\n",
      " 7  8  9 10 11 12 13\n",
      "14 15 16 17 18 19 20\n",
      "21 22 23 24 25 26 27\n",
      "28 29 30\n",
      "\n"
     ]
    }
   ],
   "source": [
    "import calendar   \n",
    "\n",
    "\n",
    "yy = int(input(\"Enter year: \"))\n",
    "mm = int(input(\"Enter month: \"))\n",
    "\n",
    "# display the calendar\n",
    "print(calendar.month(yy, mm))"
   ]
  },
  {
   "cell_type": "markdown",
   "id": "0f678246",
   "metadata": {},
   "source": [
    "### 4. Write a Python program to solve quadratic equation?"
   ]
  },
  {
   "cell_type": "code",
   "execution_count": 9,
   "id": "956b3a62",
   "metadata": {},
   "outputs": [
    {
     "name": "stdout",
     "output_type": "stream",
     "text": [
      "The roots are\n",
      "-5.414213562373095\n",
      "-2.585786437626905\n"
     ]
    }
   ],
   "source": [
    "## ax**2 + bx + c this is the quadratic equation \n",
    "a = 1\n",
    "b = 4\n",
    "c = 2\n",
    "##to let the user give the value of a,b,c\n",
    "## a = int(\"input(value of a is: \"))\n",
    "## b = int(\"input(value of b is: \"))\n",
    "## c = int(\"input(value of c is: \"))\n",
    "\n",
    "# calculating  the discriminant\n",
    "dis = (b**2) - (4 * a*c)\n",
    "  \n",
    "# find two results\n",
    "ans1 = (-b-((dis)**0.5)/(2 * a))\n",
    "ans2 = (-b + ((dis)**0.5)/(2 * a))\n",
    "  \n",
    "# printing the results\n",
    "print('The roots are')\n",
    "print(ans1)\n",
    "print(ans2)"
   ]
  },
  {
   "cell_type": "markdown",
   "id": "f70f74c9",
   "metadata": {},
   "source": [
    "### 5. Write a Python program to swap two variables without temp variable?"
   ]
  },
  {
   "cell_type": "code",
   "execution_count": 5,
   "id": "54f066ea",
   "metadata": {},
   "outputs": [
    {
     "name": "stdout",
     "output_type": "stream",
     "text": [
      "the value of x after swaping is 10\n",
      "the value of y after swaping is 5\n"
     ]
    }
   ],
   "source": [
    "x = 5\n",
    "y = 10\n",
    "\n",
    "# To take inputs from the user\n",
    "#x = input('Enter value of x: ')\n",
    "#y = input('Enter value of y: ')\n",
    "\n",
    "x,y = y,x\n",
    "print(\"the value of x after swaping is\", x)\n",
    "print(\"the value of y after swaping is\", y)"
   ]
  },
  {
   "cell_type": "code",
   "execution_count": null,
   "id": "b67d0d73",
   "metadata": {},
   "outputs": [],
   "source": []
  }
 ],
 "metadata": {
  "kernelspec": {
   "display_name": "Python 3 (ipykernel)",
   "language": "python",
   "name": "python3"
  },
  "language_info": {
   "codemirror_mode": {
    "name": "ipython",
    "version": 3
   },
   "file_extension": ".py",
   "mimetype": "text/x-python",
   "name": "python",
   "nbconvert_exporter": "python",
   "pygments_lexer": "ipython3",
   "version": "3.9.13"
  }
 },
 "nbformat": 4,
 "nbformat_minor": 5
}
