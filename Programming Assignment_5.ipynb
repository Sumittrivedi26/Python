{
 "cells": [
  {
   "cell_type": "markdown",
   "id": "4ac9602a",
   "metadata": {},
   "source": [
    "## Python Basic Programming Assignment - 5\n",
    "--------------\n"
   ]
  },
  {
   "cell_type": "markdown",
   "id": "fdaeee06",
   "metadata": {},
   "source": [
    "### 1. Write a Python Program to Find LCM?"
   ]
  },
  {
   "cell_type": "code",
   "execution_count": 1,
   "id": "68bd27c0",
   "metadata": {},
   "outputs": [],
   "source": [
    "def compute_lcm(x, y):\n",
    "  if x > y:\n",
    "    greater = x\n",
    "  else:\n",
    "    greater = y\n",
    "\n",
    "  while(True):\n",
    "    if((greater % x == 0) and (greater % y == 0)):\n",
    "      lcm = greater\n",
    "      break\n",
    "    greater += 1\n",
    "\n",
    "  return lcm"
   ]
  },
  {
   "cell_type": "code",
   "execution_count": 2,
   "id": "e068a5d7",
   "metadata": {},
   "outputs": [
    {
     "name": "stdout",
     "output_type": "stream",
     "text": [
      "The LCM is  216\n"
     ]
    }
   ],
   "source": [
    "print(\"The LCM is \", compute_lcm(24,54))"
   ]
  },
  {
   "cell_type": "markdown",
   "id": "2f459cdf",
   "metadata": {},
   "source": [
    "### 2. Write a Python Program to Find HCF?"
   ]
  },
  {
   "cell_type": "code",
   "execution_count": 6,
   "id": "c47f8413",
   "metadata": {},
   "outputs": [
    {
     "name": "stdout",
     "output_type": "stream",
     "text": [
      "Enter a Number:6\n",
      "Enter a Number:8\n",
      "HCF of 6 and 8 is 2\n"
     ]
    }
   ],
   "source": [
    "num1 = int(input(\"Enter a Number:\"))\n",
    "num2 = int(input(\"Enter a Number:\"))\n",
    "\n",
    "for i in range(1, min(num1, num2)):\n",
    "  if num1 % i == 0 and num2 % i == 0:\n",
    "      hcf = i\n",
    "print(\"HCF of\", num1, \"and\", num2 ,\"is\", hcf) "
   ]
  },
  {
   "cell_type": "markdown",
   "id": "d2c29370",
   "metadata": {},
   "source": [
    "### 3. Write a Python Program to Convert Decimal to Binary, Octal and Hexadecimal?"
   ]
  },
  {
   "cell_type": "code",
   "execution_count": 13,
   "id": "0da7bfbf",
   "metadata": {},
   "outputs": [
    {
     "name": "stdout",
     "output_type": "stream",
     "text": [
      "The decimal value of 122 is:\n",
      "0b1111010 in binary.\n",
      "0o172 in octal.\n",
      "0x7a in hexadecimal.\n"
     ]
    }
   ],
   "source": [
    "dec = 122\n",
    "print(\"The decimal value of\", dec, \"is:\")\n",
    "print(bin(dec), \"in binary.\")\n",
    "print(oct(dec), \"in octal.\")\n",
    "print(hex(dec), \"in hexadecimal.\")"
   ]
  },
  {
   "cell_type": "markdown",
   "id": "2a16c5fd",
   "metadata": {},
   "source": [
    "### 4. Write a Python Program To Find ASCII value of a character?"
   ]
  },
  {
   "cell_type": "code",
   "execution_count": 9,
   "id": "f7afa3fe",
   "metadata": {},
   "outputs": [
    {
     "name": "stdout",
     "output_type": "stream",
     "text": [
      "Enter the character whose ascii value is to be determined: w\n",
      "the ascii value of w is 119\n"
     ]
    }
   ],
   "source": [
    "char = input(\"Enter the character whose ascii value is to be determined: \")\n",
    "\n",
    "print (\"the ascii value of\", char, \"is\", ord(char))"
   ]
  },
  {
   "cell_type": "markdown",
   "id": "226778a0",
   "metadata": {},
   "source": [
    "### 5. Write a Python Program to Make a Simple Calculator with 4 basic mathematical operations?"
   ]
  },
  {
   "cell_type": "code",
   "execution_count": 10,
   "id": "dbcc5ff3",
   "metadata": {},
   "outputs": [
    {
     "name": "stdout",
     "output_type": "stream",
     "text": [
      "enter number 1: 20\n",
      "enter number 2: 22\n",
      "Enter the operation to be performed add for addition, sub for substraction, mult for multiplication, div for divisionadd\n",
      "42\n"
     ]
    }
   ],
   "source": [
    "num1 = int(input(\"enter number 1: \"))\n",
    "num2 = int(input(\"enter number 2: \"))\n",
    "operation = input(\"Enter the operation to be performed add for addition, sub for substraction, mult for multiplication, div for division\")\n",
    "\n",
    "if operation ==\"add\":\n",
    "    print (num1+num2)\n",
    "elif operation ==\"sub\":\n",
    "    print (num1-num2)\n",
    "elif operation ==\"mult\":\n",
    "    print (num1*num2)\n",
    "else:\n",
    "    print (num1/num2)"
   ]
  },
  {
   "cell_type": "code",
   "execution_count": null,
   "id": "a90e1af9",
   "metadata": {},
   "outputs": [],
   "source": []
  }
 ],
 "metadata": {
  "kernelspec": {
   "display_name": "Python 3 (ipykernel)",
   "language": "python",
   "name": "python3"
  },
  "language_info": {
   "codemirror_mode": {
    "name": "ipython",
    "version": 3
   },
   "file_extension": ".py",
   "mimetype": "text/x-python",
   "name": "python",
   "nbconvert_exporter": "python",
   "pygments_lexer": "ipython3",
   "version": "3.9.13"
  }
 },
 "nbformat": 4,
 "nbformat_minor": 5
}
